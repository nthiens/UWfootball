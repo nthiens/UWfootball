{
  "nbformat": 4,
  "nbformat_minor": 0,
  "metadata": {
    "colab": {
      "provenance": []
    },
    "kernelspec": {
      "name": "python3",
      "display_name": "Python 3"
    },
    "language_info": {
      "name": "python"
    }
  },
  "cells": [
    {
      "cell_type": "code",
      "execution_count": 1,
      "metadata": {
        "id": "mw5UPviaMuvu"
      },
      "outputs": [],
      "source": [
        "import pandas as pd\n",
        "from urllib.request import urlopen\n",
        "from bs4 import BeautifulSoup\n",
        "import numpy as np\n",
        "\n",
        "\n",
        "page = urlopen(\"https://athletics.uwaterloo.ca/sports/football/roster\")\n",
        "html = page.read().decode(\"utf-8\")\n",
        "soup = BeautifulSoup(html, \"html.parser\")\n",
        "\n",
        "ul_element = soup.find('ul', class_='sidearm-roster-players')\n",
        "li_elements = ul_element.find_all('li', class_='sidearm-roster-player')\n"
      ]
    },
    {
      "cell_type": "code",
      "source": [
        "name_list = []\n",
        "weight_list = []\n",
        "position_list = []\n",
        "height_list = []\n",
        "elig_year_list = []\n",
        "program_list = []\n",
        "acad_year_list = []\n",
        "hometown_list = []\n",
        "image_list = []\n",
        "\n",
        "for player in li_elements:\n",
        "  player_name = player.find('h3')\n",
        "  a_tag = player_name.find('a')\n",
        "  player_name = a_tag.text.strip()\n",
        "  #print(player_name)\n",
        "  name_list = name_list + [player_name]\n",
        "\n",
        "  link = a_tag.get('href')\n",
        "  link = \"https://athletics.uwaterloo.ca/\" + link\n",
        "  #print(link)\n",
        "\n",
        "  weight = player.find('span', class_='sidearm-roster-player-weight')\n",
        "  weight = weight.text.strip()\n",
        "  weight = weight[:-4]\n",
        "  #print(weight)\n",
        "  weight_list = weight_list + [weight]\n",
        "\n",
        "  player_page = urlopen(link)\n",
        "  player_html = player_page.read().decode(\"utf-8\")\n",
        "  player_soup = BeautifulSoup(player_html, \"html.parser\")\n",
        "  player_div = player_soup.find_all('li')\n",
        "\n",
        "  position = player_soup.find('div', class_='flex-item-1').find_all('span')[1]\n",
        "  position = position.text.strip()\n",
        "\n",
        "  #print(position)\n",
        "  position_list = position_list + [position]\n",
        "\n",
        "  height = player_soup.find('div', class_='flex-item-1').find_all('span')[3]\n",
        "  height = height.text.strip()\n",
        "  #print(height)\n",
        "  height_list = height_list + [height]\n",
        "\n",
        "\n",
        "  elig_year = player_soup.find('div', class_='flex-item-1').find_all('span')[5]\n",
        "  elig_year = elig_year.text.strip()\n",
        "  #print(elig_year)\n",
        "  elig_year_list = elig_year_list + [elig_year]\n",
        "\n",
        "  program = player_soup.find('div', class_='flex-item-1').find_all('span')[7]\n",
        "  program = program.text.strip()\n",
        "  #print(program)\n",
        "  program_list = program_list + [program]\n",
        "\n",
        "  acad_year = player_soup.find('div', class_='flex-item-1').find_all('span')[9]\n",
        "  acad_year = acad_year.text.strip()\n",
        "  #print(acad_year)\n",
        "  acad_year_list = acad_year_list + [acad_year]\n",
        "\n",
        "  hometown = player_soup.find('div', class_='flex-item-1').find_all('span')[11]\n",
        "  hometown = hometown.text.strip()\n",
        "  #print(hometown)\n",
        "  hometown_list = hometown_list + [hometown]\n",
        "\n",
        "  image = player_soup.find(\"div\", class_=\"sidearm-roster-player-image\")\n",
        "  if image:\n",
        "    image = image.find('img')\n",
        "    image = image.get('src')\n",
        "    image = \"https://athletics.uwaterloo.ca/\" + image\n",
        "    #print(image)\n",
        "    image_list = image_list + [image]\n",
        "  else:\n",
        "    #print(\"https://i.imgur.com/rxwmSpO.png\")\n",
        "    image_list = image_list + [\"https://i.imgur.com/rxwmSpO.png\"]\n",
        "  #print()"
      ],
      "metadata": {
        "id": "LcAdoPupQ-Pk"
      },
      "execution_count": 2,
      "outputs": []
    },
    {
      "cell_type": "code",
      "source": [
        "name_list = [name.replace('  ', ' ') for name in name_list]\n",
        "\n",
        "def height_convert(s):\n",
        "  split_height = s.split(\"-\")\n",
        "  feet = 30.48 * int(split_height[0])\n",
        "  inches = 2.54 * int(split_height[1])\n",
        "  return (feet + inches)\n",
        "height_list = list(map(height_convert, height_list))\n",
        "\n",
        "def acad_year_map(y):\n",
        "  if y[0:3] == \"Fir\":\n",
        "    return 1\n",
        "  elif y[0:3] == \"Sec\":\n",
        "    return 2\n",
        "  elif y[0:3] == \"Thi\":\n",
        "    return 3\n",
        "  elif y[0:3] == \"Fou\":\n",
        "    return 4\n",
        "  elif y[0:3] == \"Fif\":\n",
        "    return 5\n",
        "  else:\n",
        "    return 6 ## Graduate student\n",
        "acad_year_list = list(map(acad_year_map, acad_year_list))"
      ],
      "metadata": {
        "id": "E09Zz4Sji2ut"
      },
      "execution_count": 3,
      "outputs": []
    },
    {
      "cell_type": "code",
      "source": [
        "print(name_list)\n",
        "print(weight_list)\n",
        "print(position_list)\n",
        "print(height_list)\n",
        "print(elig_year_list)\n",
        "print(program_list)\n",
        "print(acad_year_list)\n",
        "print(hometown_list)\n",
        "print(image_list)"
      ],
      "metadata": {
        "colab": {
          "base_uri": "https://localhost:8080/"
        },
        "id": "zjxQStCmfzQy",
        "outputId": "1745bcdd-4c25-4684-9ddb-fe04b84d965c"
      },
      "execution_count": 4,
      "outputs": [
        {
          "output_type": "stream",
          "name": "stdout",
          "text": [
            "['Anthony Miller', 'Anesu Latmore', 'Keesean Bowen', 'Isiah Blackson', 'Nick Orr', 'Ethan Miller', 'Michael Moir', 'Nolan Kaban', 'Nick Morgado', 'Austin Dunnill', 'Yinka Ogunnote', 'Divine Ugoh', 'Isaac White', 'Tyler Tierney', 'John Sargeant', 'Chadley Charles', 'Riley Webster', 'Romell Samuel-Slocombe', 'Hayden Crowe', 'Alex Sooley', 'Owen Herechuk', 'Mason Henry', 'Delroy Njonguo', 'Rachim Blackson', 'Kieran Pama', 'Cole Crossett', 'Logan Heroux', 'Nick Cahyono', 'Isaac Porter', 'Gursiman Dhaliwal', 'Roy Van Der Veen', 'Zach Parmley', 'Isaiah Butts', 'Terry Ojeh', 'Quinten Springer', 'Josh Pileggi', 'James Hinsperger', 'Elijah Pappin', 'Arden Martinez', 'Michael Omoseni', 'Jose Ogunjinmi', 'Jordan Landry', 'Cole Weddell', 'Jadyn Alam-Smith', 'Sam McPherson', 'Nate Mortenson', 'Allen Clements', 'Andrew Kilby', 'Cameron Krug', 'Marcus Miller', 'Ethan Kalra', 'Marcus Palumbo', 'Cameron Bulai', 'Ethan Given', 'Brayden Hastie', 'Devon Martin', 'Matthew Elia', 'Thomas Levings', 'Julian Bulai', 'Nicholas Gidaro', 'Daniel Dove', 'Adam Willette', 'Vibushan Pirabaharan', 'Clay Cote', 'Andrew Cooper', 'Marcus Ola', 'Brett Timbeck', 'Malcolm Moore', 'Marcus Hoegl', 'Amr Qutub', 'Evan Basalyga', 'Tyler Goforth', 'Jack Lausch', 'Michael Matias', 'Noah Dubbeld', 'Josiah Ramadan-St Denis', 'Dominique Walker', 'Justin Gec', 'Yassier Adam', 'Mason Anskis', 'Kingsley Asierika-Chan', 'Matty Barr', 'Josh Bennett', 'Nathan Channer', 'Owen Clarke', 'David Cranmer', 'DeAndre Escoffery', 'Jacob Fisher', 'Evan Goforth', 'Eddie Gorman', 'Wesley Machida-Gleadall', 'Israel Mompatibi', 'Ryan Nesbitt', 'Jethro Oleko', 'Aidan Palmer', 'Eugene Park', 'Mason Parmley', 'Mason Richard', 'Jorge Rodriguez', 'Ethan Schwarz', 'Nicholas Seybold', 'Sam Shoniker', 'Brandon Swain', 'Michael Tannahill', 'Roman Tinna', 'Raj Virk', 'Jared Watts']\n",
            "['205', '190', '225', '162', '222', '201', '179', '202', '168', '176', '166', '239', '186', '187', '177', '177', '185', '193', '170', '191', '172', '180', '192', '160', '195', '196', '168', '187', '170', '207', '200', '206', '183', '201', '195', '184', '218', '243', '221', '249', '218', '205', '205', '211', '210', '211', '200', '218', '224', '234', '321', '297', '303', '265', '285', '293', '277', '288', '265', '287', '302', '320', '287', '364', '292', '253', '179', '180', '187', '171', '227', '155', '316', '234', '259', '276', '253', '280', '179', '182', '186', '188', '189', '198', '222', '181', '159', '167', '147', '212', '182', '171', '180', '215', '189', '173', '247', '226', '167', '179', '189', '198', '190', '184', '198', '186', '191']\n",
            "['RB', 'DB', 'LB', 'DB', 'QB', 'RB', 'DB', 'QB', 'REC', 'DB', 'REC', 'DL', 'QB', 'REC', 'DB', 'DB', 'REC', 'REC', 'DB', 'REC', 'DB', 'DB', 'DB', 'DB', 'DB', 'K/P', 'REC', 'DB', 'DB', 'LB', 'RB', 'H-Back', 'DB', 'DB', 'RB', 'DB', 'LB', 'H-Back', 'LB', 'LB', 'H-Back', 'LB', 'LS', 'LB', 'LB', 'LB', 'LB', 'LB', 'DL', 'DL', 'OL', 'OL', 'OL', 'OL', 'OL', 'OL', 'OL', 'OL', 'OL', 'OL', 'OL', 'OL', 'OL', 'DL', 'OL', 'DL', 'REC', 'REC', 'REC', 'REC', 'H-Back', 'REC', 'DL', 'DL', 'DL', 'DL', 'DL', 'DL', 'DB', 'RB', 'DB', 'REC', 'REC', 'H-Back', 'RB', 'REC', 'DB', 'DB', 'REC', 'REC', 'DB', 'DB', 'DB', 'LB', 'DB', 'DB', 'DL', 'LB', 'DB', 'QB', 'LB', 'DB', 'K/P', 'K/P', 'LB', 'REC', 'LB']\n",
            "[182.88, 180.34, 185.42, 180.34, 190.5, 177.8, 193.04, 187.96, 180.34, 185.42, 182.88, 190.5, 187.96, 187.96, 190.5, 180.34, 190.5, 177.8, 185.42, 193.04, 185.42, 185.42, 182.88, 175.26, 172.72, 182.88, 175.26, 193.04, 177.8, 185.42, 180.34, 180.34, 177.8, 190.5, 180.34, 177.8, 190.5, 187.96, 190.5, 190.5, 180.34, 190.5, 182.88, 185.42, 182.88, 190.5, 187.96, 182.88, 190.5, 190.5, 190.5, 185.42, 182.88, 180.34, 193.04, 185.42, 190.5, 195.57999999999998, 190.5, 193.04, 195.57999999999998, 195.57999999999998, 185.42, 193.04, 182.88, 187.96, 182.88, 187.96, 187.96, 182.88, 190.5, 177.8, 182.88, 195.57999999999998, 187.96, 187.96, 203.2, 187.96, 177.8, 175.26, 180.34, 182.88, 193.04, 187.96, 182.88, 193.04, 175.26, 180.34, 172.72, 182.88, 187.96, 177.8, 175.26, 180.34, 177.8, 170.18, 182.88, 182.88, 177.8, 182.88, 182.88, 180.34, 190.5, 177.8, 182.88, 180.34, 185.42]\n",
            "['4', '4', '4', '3', '3', '1', '1', '4', '2', '1', '2', '2', '1', '3', '1', '1', '1', '4', '1', '3', '1', '3', '1', '1', '1', '4', '2', '2', '2', '2', '1', '1', '3', '1', '2', '1', '3', '2', '2', '2', '2', '1', '3', '1', '1', '2', '1', '1', '3', '3', '5', '1', '2', '1', '1', '3', '1', '3', '2', '3', '4', '1', '1', '2', '1', '3', '4', '1', '3', '1', '3', '1', '1', '2', '1', '1', '2', '3', '1', '1', '1', '1', '1', '1', '1', '1', '1', '1', '1', '1', '1', '1', '1', '5', '3', '1', '3', '1', '1', '1', '1', '1', '2', '2', '1', '1', '1']\n",
            "['Recreation & Leisure', 'Political Science', 'Kinesiology', 'Recreation & Leisure', 'Philosophy', 'Recreation & Sport Business', 'Recreation & Sport Business', 'Science & Business', 'Recreation & Sport Business', 'Arts', 'Arts & Business', 'Psychology', 'Recreation & Leisure', 'Recreation & Sport Business', 'Recreation & Sport Business', 'Arts', 'Recreation & Sport Business', 'Recreation & Sport Business', 'Climate & Environmental Change', 'Arts & Business', 'Geography & Aviation', 'Communication Studies', 'Kinesiology', 'Psychology', 'Kinesiology', 'Social & Legal Studies (Graduate)', 'Recreation & Leisure', 'Arts & Business', 'Kinesiology', 'Kinesiology', 'Arts & Business', 'Kinesiology', 'Environmental Planning', 'Computer Science', 'Recreation & Leisure', 'Kinesiology', 'Civil Engineering', 'Economics', 'Chemical Engineering', 'Environment & Business', 'Geography & Aviation', 'Geography & Environmental Management', 'Kinesiology', 'Health Sciences', 'Arts & Business', 'Recreation & Sport Business', 'Mechanical Engineering', 'Kinesiology', 'Environment & Business', 'Recreation & Leisure', 'Arts & Business', 'Arts & Business', 'Arts & Business', 'Arts', 'Recreation & Sport Business', 'Recreation & Sport Business', 'Arts', 'Environmental Engineering', 'Arts & Business', 'Kinesiology', 'Math', 'Arts', 'Liberal Studies', 'Arts & Business', 'Sociology', 'Sociology', 'Kinesiology', 'Accounting & Financial Management', 'Environment, Resources & Sustainability', 'Mechanical Engineering', 'Arts & Business', 'Health Sciences', 'Arts & Business', 'Recreation & Leisure', 'Arts', 'Economics', 'Recreation & Leisure', 'Legal Studies & Business', 'Kinesiology', 'Arts & Business', 'Arts', 'Geography & Aviation', 'Recreation & Leisure', 'Arts', 'Kinesiology', 'Recreation & Leisure', 'Arts & Business', 'Recreation & Sport Business', 'Arts & Business', 'Recreation & Sport Business', 'Environment & Business', 'Arts', 'Civil Engineering', 'Arts', 'Recreation & Leisure', 'Accounting & Financial Management', 'Kinesiology', 'Psychology', 'Recreation & Sport Business', 'Arts & Business', 'Arts', 'Recreation & Sport Business', 'Recreation & Sport Business', 'Arts & Business', 'Environment & Business', 'Recreation & Sport Business', 'Recreation & Sport Business']\n",
            "[5, 4, 4, 4, 3, 3, 1, 4, 1, 1, 2, 3, 2, 3, 1, 1, 1, 4, 1, 4, 2, 4, 3, 1, 1, 6, 2, 2, 3, 2, 2, 5, 5, 1, 2, 4, 4, 2, 2, 2, 4, 1, 4, 2, 1, 3, 1, 2, 3, 5, 5, 1, 5, 1, 1, 4, 2, 3, 3, 4, 4, 1, 3, 3, 3, 3, 4, 1, 3, 3, 3, 2, 1, 3, 1, 3, 3, 5, 2, 3, 1, 1, 1, 1, 3, 1, 1, 1, 1, 1, 1, 1, 1, 5, 5, 1, 2, 2, 1, 1, 1, 1, 2, 3, 1, 3, 1]\n",
            "['Brampton, ON', 'Ottawa, ON', 'Toronto, ON', 'London, ON', 'Caledon, ON', 'Brampton, ON', 'Georgetown, ON', 'Calgary, AB', 'Kitchener, ON', 'Vernon, BC', 'Guelph, ON', 'Waterloo, ON', 'St Thomas, ON', 'London, ON', 'Halton Hills, ON', 'Toronto, ON', 'Waterloo, ON', 'Brampton, ON', 'Acton, ON', 'Baden, ON', 'London, ON', 'Milton, ON', 'Shelburne, ON', 'London, ON', 'Delta, BC', 'Metcalfe, ON', 'Burlington, ON', 'London, ON', 'Fredericton, NB', 'Brampton, ON', 'Grand Valley, ON', 'London, ON', 'Ottawa, ON', 'Regina, SK', 'Cambridge, ON', 'Brampton, ON', 'Waterloo, ON', 'Niagara Falls, ON', 'Niagara Falls, ON', 'Burlington, ON', 'Windsor, ON', 'Hamilton, ON', 'Niagara Falls, ON', 'Mississauga, ON', 'Caledon, ON', 'Windsor, ON', 'Cranford, AB', 'Sudbury, ON', 'London, ON', 'Brampton, ON', 'Acton, ON', 'Sault Ste. Marie, ON', 'Waterloo, ON', 'Thunder Bay, ON', 'Kitchener, ON', 'Bradford, ON', 'Niagara Falls, ON', 'Abbotsford, BC', 'Waterloo, ON', 'Vaughan, ON', 'Orangeville, ON', 'Etobicoke, ON', 'Oakville, ON', 'Kingston, ON', 'Baden, ON', 'Brockville, ON', 'London, ON', 'Stoney Creek, ON', 'Burlington, ON', 'London, ON', 'Thunder Bay, ON', 'Niagara Falls, ON', 'Winnipeg, MB', 'Mount Brydges, ON', 'Oakville, ON', 'London, ON', 'Oshawa, ON', 'Waterloo, ON', 'Calgary, AB', 'Burlington, ON', 'Burlington, ON', 'Wasaga Beach, ON', 'Burlington, ON', 'Ancaster, ON', 'London, ON', 'Rockwood, ON', 'Mississauga, ON', 'Kitchener, ON', 'Niagara Falls, ON', 'Oakville, ON', 'Stoney Creek, ON', 'Ottawa, ON', 'Holland Landing, ON', 'Windsor, ON', 'Brampton, ON', 'Niagara Falls, ON', 'London, ON', 'Sarnia, ON', 'Niagara Falls, ON', 'Newmarket, ON', 'London, ON', 'Guelph, ON', 'Sydenham, ON', 'Brampton, ON', 'Oakville, ON', 'Burlington, ON', 'Kitchener, ON']\n",
            "['https://athletics.uwaterloo.ca//images/2024/8/19/A._Miller.jpg?width=300', 'https://i.imgur.com/rxwmSpO.png', 'https://athletics.uwaterloo.ca//images/2024/8/19/Bowen_Keesean.jpg?width=300', 'https://athletics.uwaterloo.ca//images/2024/8/19/I._Blackson_.jpg?width=300', 'https://athletics.uwaterloo.ca//images/2024/8/19/Orr_Nick.jpg?width=300', 'https://athletics.uwaterloo.ca//images/2024/8/19/Miller_Ethan.jpg?width=300', 'https://athletics.uwaterloo.ca//images/2024/8/19/M._Moir.jpg?width=300', 'https://athletics.uwaterloo.ca//images/2024/8/19/N._Kaban.jpg?width=300', 'https://athletics.uwaterloo.ca//images/2024/8/19/N._Morgado.jpg?width=300', 'https://athletics.uwaterloo.ca//images/2024/8/19/A._Dunnill.jpg?width=300', 'https://athletics.uwaterloo.ca//images/2024/8/19/Y._Ogunnote.jpg?width=300', 'https://athletics.uwaterloo.ca//images/2024/8/19/Ugoh_Divine.jpg?width=300', 'https://athletics.uwaterloo.ca//images/2024/8/19/I._White.jpg?width=300', 'https://athletics.uwaterloo.ca//images/2024/8/19/Tierney_Tyler.jpg?width=300', 'https://athletics.uwaterloo.ca//images/2024/8/19/J._Sergent.jpg?width=300', 'https://athletics.uwaterloo.ca//images/2024/8/19/C._Charles.jpg?width=300', 'https://athletics.uwaterloo.ca//images/2024/8/19/R._Webster.jpg?width=300', 'https://athletics.uwaterloo.ca//images/2024/8/19/Samuel-Slocobe_Romell.jpg?width=300', 'https://athletics.uwaterloo.ca//images/2024/8/19/Hayden_Something.jpg?width=300', 'https://athletics.uwaterloo.ca//images/2024/8/19/A._Sooley.jpg?width=300', 'https://athletics.uwaterloo.ca//images/2024/8/19/O._Herechuk.jpg?width=300', 'https://athletics.uwaterloo.ca//images/2024/8/19/M._Henry.jpg?width=300', 'https://i.imgur.com/rxwmSpO.png', 'https://athletics.uwaterloo.ca//images/2024/8/19/R._Blackson.jpg?width=300', 'https://athletics.uwaterloo.ca//images/2024/8/19/K._Pama.jpg?width=300', 'https://athletics.uwaterloo.ca//images/2024/8/19/Crossett_Cole.jpg?width=300', 'https://athletics.uwaterloo.ca//images/2024/8/19/L._Heroux.jpg?width=300', 'https://athletics.uwaterloo.ca//images/2024/8/19/N._Cahyono.jpg?width=300', 'https://athletics.uwaterloo.ca//images/2024/8/19/I._Porter.jpg?width=300', 'https://athletics.uwaterloo.ca//images/2024/8/19/G._Dhaliwal.jpg?width=300', 'https://athletics.uwaterloo.ca//images/2024/8/19/VanDerVeen_Roy.jpg?width=300', 'https://athletics.uwaterloo.ca//images/2024/8/19/Parmley_Zach.jpg?width=300', 'https://athletics.uwaterloo.ca//images/2024/8/19/Butts.jpg?width=300', 'https://athletics.uwaterloo.ca//images/2024/8/19/T._Ojeh.jpg?width=300', 'https://athletics.uwaterloo.ca//images/2024/8/19/Springer_Quinten.jpg?width=300', 'https://athletics.uwaterloo.ca//images/2024/8/19/J._Pileggi.jpg?width=300', 'https://athletics.uwaterloo.ca//images/2024/8/19/J._Hinsperger_.jpg?width=300', 'https://athletics.uwaterloo.ca//images/2024/8/19/E._Pappin.jpg?width=300', 'https://athletics.uwaterloo.ca//images/2024/8/19/A._Martinez.jpg?width=300', 'https://athletics.uwaterloo.ca//images/2024/8/19/M._Omoseni.jpg?width=300', 'https://athletics.uwaterloo.ca//images/2024/8/19/J._Ogunjinmi.jpg?width=300', 'https://athletics.uwaterloo.ca//images/2024/8/19/Landry_Jordan.jpg?width=300', 'https://athletics.uwaterloo.ca//images/2024/8/19/Weddell_Cole.jpg?width=300', 'https://athletics.uwaterloo.ca//images/2024/8/19/J._Alam-Smith.jpg?width=300', 'https://i.imgur.com/rxwmSpO.png', 'https://athletics.uwaterloo.ca//images/2024/8/19/Mortenson_Nate.jpg?width=300', 'https://athletics.uwaterloo.ca//images/2024/8/19/Clements_Allen.jpg?width=300', 'https://athletics.uwaterloo.ca//images/2024/8/19/A._Kilby.jpg?width=300', 'https://athletics.uwaterloo.ca//images/2024/8/19/C._Krug.jpg?width=300', 'https://athletics.uwaterloo.ca//images/2024/8/19/M._Miller.jpg?width=300', 'https://athletics.uwaterloo.ca//images/2024/8/19/Kalra_Ethan.jpg?width=300', 'https://athletics.uwaterloo.ca//images/2024/8/19/Palumbo_Marcus.jpg?width=300', 'https://athletics.uwaterloo.ca//images/2024/8/19/C._Bulai.jpg?width=300', 'https://athletics.uwaterloo.ca//images/2024/8/19/E._Given.jpg?width=300', 'https://athletics.uwaterloo.ca//images/2024/8/19/B._Hastie.jpg?width=300', 'https://athletics.uwaterloo.ca//images/2024/8/19/D._Martin.jpg?width=300', 'https://athletics.uwaterloo.ca//images/2024/8/19/Elia_Matthew.jpg?width=300', 'https://athletics.uwaterloo.ca//images/2024/8/19/T._Levings.jpg?width=300', 'https://athletics.uwaterloo.ca//images/2024/8/19/J._Bulai.jpg?width=300', 'https://athletics.uwaterloo.ca//images/2024/8/19/N._Gidaro.jpg?width=300', 'https://athletics.uwaterloo.ca//images/2024/8/19/D._Dove.jpg?width=300', 'https://athletics.uwaterloo.ca//images/2024/8/19/A._Willette.jpg?width=300', 'https://athletics.uwaterloo.ca//images/2024/8/19/Pirabaharan_Vib.jpg?width=300', 'https://athletics.uwaterloo.ca//images/2024/8/19/C._Cote.jpg?width=300', 'https://athletics.uwaterloo.ca//images/2024/8/19/A._Cooper.jpg?width=300', 'https://athletics.uwaterloo.ca//images/2024/8/19/Ola_Marcus.jpg?width=300', 'https://athletics.uwaterloo.ca//images/2024/8/19/Timbeck_Brett.jpg?width=300', 'https://athletics.uwaterloo.ca//images/2024/8/19/Moore_Malcolm.jpg?width=300', 'https://athletics.uwaterloo.ca//images/2024/8/19/M._Hogel.jpg?width=300', 'https://i.imgur.com/rxwmSpO.png', 'https://athletics.uwaterloo.ca//images/2024/8/19/O._Basalyga.jpg?width=300', 'https://athletics.uwaterloo.ca//images/2024/8/19/T._Goforth.jpg?width=300', 'https://athletics.uwaterloo.ca//images/2024/8/19/J._Lausch.jpg?width=300', 'https://athletics.uwaterloo.ca//images/2024/8/19/M._Metais.jpg?width=300', 'https://athletics.uwaterloo.ca//images/2024/8/19/N._Dubbled.jpg?width=300', 'https://athletics.uwaterloo.ca//images/2024/8/19/Ramadan-St.Denis_Josiah.jpg?width=300', 'https://i.imgur.com/rxwmSpO.png', 'https://athletics.uwaterloo.ca//images/2024/8/19/J._Gec.jpg?width=300', 'https://athletics.uwaterloo.ca//images/2024/8/19/Adam.jpg?width=300', 'https://athletics.uwaterloo.ca//images/2024/8/19/Anskis_Mason.jpg?width=300', 'https://athletics.uwaterloo.ca//images/2024/8/19/K._Asierika-Chan.jpg?width=300', 'https://athletics.uwaterloo.ca//images/2024/8/19/M._Barr.jpg?width=300', 'https://athletics.uwaterloo.ca//images/2024/8/19/J._Bennett.jpg?width=300', 'https://athletics.uwaterloo.ca//images/2024/8/19/Channer_Nathan.jpg?width=300', 'https://athletics.uwaterloo.ca//images/2024/8/19/O._Clarke.jpg?width=300', 'https://athletics.uwaterloo.ca//images/2024/8/19/D._Crahmer.jpg?width=300', 'https://athletics.uwaterloo.ca//images/2024/8/19/D._Escoffery.jpg?width=300', 'https://athletics.uwaterloo.ca//images/2024/8/19/Fisher.jpg?width=300', 'https://athletics.uwaterloo.ca//images/2024/8/19/Goforth_Evan.jpg?width=300', 'https://athletics.uwaterloo.ca//images/2024/8/19/E._Gorman.jpg?width=300', 'https://athletics.uwaterloo.ca//images/2024/8/19/Welsey._MG.jpg?width=300', 'https://athletics.uwaterloo.ca//images/2024/8/19/I._Mompatibi.jpg?width=300', 'https://athletics.uwaterloo.ca//images/2024/8/19/I._Nesbitt.jpg?width=300', 'https://athletics.uwaterloo.ca//images/2024/8/19/J._Oleko.jpg?width=300', 'https://athletics.uwaterloo.ca//images/2024/8/19/A._Palmer.jpg?width=300', 'https://athletics.uwaterloo.ca//images/2024/8/19/E._Park.jpg?width=300', 'https://athletics.uwaterloo.ca//images/2024/8/19/Parmley_Mason.jpg?width=300', 'https://athletics.uwaterloo.ca//images/2024/8/19/Richard_Mason.jpg?width=300', 'https://athletics.uwaterloo.ca//images/2024/8/19/J._Rodriquez.jpg?width=300', 'https://athletics.uwaterloo.ca//images/2024/8/19/E._Schwartz.jpg?width=300', 'https://athletics.uwaterloo.ca//images/2024/8/19/N._Seyebold.jpg?width=300', 'https://athletics.uwaterloo.ca//images/2024/8/19/S._Shoniker.jpg?width=300', 'https://athletics.uwaterloo.ca//images/2024/8/19/B._Swain.jpg?width=300', 'https://athletics.uwaterloo.ca//images/2024/8/19/Tannahill_Michael.jpg?width=300', 'https://athletics.uwaterloo.ca//images/2024/8/19/R._Tinna.jpg?width=300', 'https://athletics.uwaterloo.ca//images/2024/8/19/Virk_Raj.jpg?width=300', 'https://athletics.uwaterloo.ca//images/2024/8/19/J._Watts.jpg?width=300']\n"
          ]
        }
      ]
    },
    {
      "cell_type": "code",
      "source": [
        "import csv\n",
        "import requests\n",
        "\n",
        "new_image_list = []\n",
        "\n",
        "for link in image_list:\n",
        "  response = requests.get(link, allow_redirects=True)\n",
        "  new_image_list = new_image_list + [response.url]\n",
        "  #print(response.url)\n",
        "\n",
        "image_list = new_image_list\n",
        "#print(image_list)"
      ],
      "metadata": {
        "id": "5LvTrCKdSoUZ"
      },
      "execution_count": 5,
      "outputs": []
    },
    {
      "cell_type": "code",
      "source": [
        "import pandas as pd\n",
        "\n",
        "df = pd.DataFrame({\n",
        "    'Name': name_list,\n",
        "    'Position': position_list,\n",
        "    'Height': height_list,\n",
        "    'Weight': weight_list,\n",
        "    'Elig Year': elig_year_list,\n",
        "    'Acad Year': acad_year_list,\n",
        "    'Program': program_list,\n",
        "    'Hometown': hometown_list,\n",
        "    'Image': image_list\n",
        "\n",
        "})\n",
        "\n",
        "#df"
      ],
      "metadata": {
        "id": "P6S-L-EglHH5"
      },
      "execution_count": 6,
      "outputs": []
    },
    {
      "cell_type": "code",
      "source": [
        "df.to_csv('roster.csv', index=False)"
      ],
      "metadata": {
        "id": "8msV6xp0l-Cr"
      },
      "execution_count": 7,
      "outputs": []
    }
  ]
}